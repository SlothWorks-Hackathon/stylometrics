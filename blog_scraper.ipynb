{
 "cells": [
  {
   "cell_type": "markdown",
   "metadata": {},
   "source": [
    "Blog scraper\n",
    "==\n",
    "\n",
    "This scraper runs in two parts:\n",
    "\n",
    "1. Iterate over some number of blog pages and collect URLs to individual posts.\n",
    "1. Iterate over the collected posts URLs and collect their content.\n",
    "\n",
    "In order to run the scraper for some other blog you will need to provide:\n",
    "\n",
    "1. the blog URL in the `curr_page_url`;\n",
    "1. Post XPATH URL selector (should be an link tag) in the `post_url_selector`;\n",
    "1. Blog post content selector (could be multiple divs. p-tags, etc) in the `content_selector`;\n",
    "1. Path to the ouput file. **NOTE**: The output directory should exist."
   ]
  },
  {
   "cell_type": "code",
   "execution_count": 4,
   "metadata": {},
   "outputs": [
    {
     "name": "stdout",
     "output_type": "stream",
     "text": [
      "Number of posts: 30\n"
     ]
    }
   ],
   "source": [
    "import requests\n",
    "from lxml import html\n",
    "\n",
    "def get_it(url, selector, value_selector):\n",
    "    page = requests.get(url)\n",
    "    tree = html.fromstring(page.content)\n",
    "    return [[x for x in post_body.xpath(value_selector) if x.strip() != ''] for post_body in tree.xpath(selector)]\n",
    "\n",
    "flatten = lambda l: [item for sublist in l for item in sublist]\n",
    "\n",
    "max_page_num = 6\n",
    "blog_post_urls = []\n",
    "for page_num in range(max_page_num):\n",
    "    cur_page_url = 'https://yurukov.net/blog/page/' + str(page_num + 1)\n",
    "    post_url_selector = '//h1[contains(@class, \"entry-title\")]/a'\n",
    "    blog_post_urls += get_it(cur_page_url, post_url_selector, './@href')\n",
    "\n",
    "\n",
    "print('Number of posts: ' + str(len(blog_post_urls)))\n",
    "\n",
    "for num, url in enumerate(flatten(blog_post_urls)):\n",
    "    content_selector = '//div[@class=\"entry-content\"]/p'\n",
    "    content = get_it(url, content_selector, './text()')\n",
    "    output_file = './blogs/yurukov/' + str(num) + \".txt\"\n",
    "    with open(output_file, \"w\") as text_file:\n",
    "        print(''.join(flatten(content)), file=text_file)\n"
   ]
  }
 ],
 "metadata": {
  "kernelspec": {
   "display_name": "Python 3",
   "language": "python",
   "name": "python3"
  },
  "language_info": {
   "codemirror_mode": {
    "name": "ipython",
    "version": 3
   },
   "file_extension": ".py",
   "mimetype": "text/x-python",
   "name": "python",
   "nbconvert_exporter": "python",
   "pygments_lexer": "ipython3",
   "version": "3.6.3"
  }
 },
 "nbformat": 4,
 "nbformat_minor": 2
}
