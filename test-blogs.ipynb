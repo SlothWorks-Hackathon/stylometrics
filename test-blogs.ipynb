{
 "cells": [
  {
   "cell_type": "code",
   "execution_count": 1,
   "metadata": {
    "collapsed": true
   },
   "outputs": [],
   "source": [
    "from vectorization import Vectorizer\n",
    "from glob import glob\n",
    "from sklearn.preprocessing import StandardScaler\n",
    "from scipy.spatial.distance import pdist, squareform\n",
    "from scipy.cluster.hierarchy import linkage, dendrogram\n",
    "\n",
    "%matplotlib inline\n",
    "\n",
    "div = 9\n",
    "import random\n",
    "random.seed()\n",
    "rnd = random.randint(0, div - 1)"
   ]
  },
  {
   "cell_type": "code",
   "execution_count": 1,
   "metadata": {},
   "outputs": [],
   "source": [
    "def preprocess(text, max_len=30000):\n",
    "    return ''.join([c for c in text.lower()\n",
    "                        if c.isalpha() or c.isspace()])[:max_len]\n",
    "\n",
    "with open('data/stopwords.txt', 'r', encoding='utf-8') as stopwords_file:\n",
    "    stopwords_list = preprocess(stopwords_file.read()).split()\n",
    "\n",
    "filenames, texts = [], []\n",
    "for i, filename in enumerate(glob('data/blogs/**/*.txt')):\n",
    "    with open(filename, 'r', encoding='utf-8') as f:\n",
    "        text = preprocess(f.read())\n",
    "        \n",
    "    if i % div == rnd:\n",
    "        filenames.append(filename)\n",
    "        texts.append(text)\n",
    "    \n",
    "wrappedVectorizer = Vectorizer(mfi=30,\n",
    "                               vector_space='tf',\n",
    "                               ngram_type='words',\n",
    "                               ngram_size=2,\n",
    "                               min_df=0.1)\n",
    "scaler = StandardScaler(with_mean=False)\n",
    "X = scaler.fit_transform(wrappedVectorizer.vectorize(texts)).toarray()\n",
    "print(wrappedVectorizer.feature_names)\n",
    "\n",
    "pd = pdist(X, 'euclidean')\n",
    "# dm = squareform(pd)\n",
    "linkage_object = linkage(pd, method='ward')\n",
    "d = dendrogram(Z=linkage_object, labels=filenames, orientation='left')"
   ]
  }
 ],
 "metadata": {
  "kernelspec": {
   "display_name": "Python 3",
   "language": "python",
   "name": "python3"
  },
  "language_info": {
   "codemirror_mode": {
    "name": "ipython",
    "version": 3
   },
   "file_extension": ".py",
   "mimetype": "text/x-python",
   "name": "python",
   "nbconvert_exporter": "python",
   "pygments_lexer": "ipython3",
   "version": "3.6.3"
  }
 },
 "nbformat": 4,
 "nbformat_minor": 2
}
